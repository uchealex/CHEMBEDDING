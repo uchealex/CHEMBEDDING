{
 "cells": [
  {
   "cell_type": "code",
   "execution_count": null,
   "id": "5d2bd15d",
   "metadata": {},
   "outputs": [],
   "source": [
    "import torch\n",
    "print(\"✅ GPU Available:\", torch.cuda.is_available())\n",
    "if torch.cuda.is_available():\n",
    "    print(\"🧠 Using:\", torch.cuda.get_device_name(0))"
   ]
  },
  {
   "cell_type": "code",
   "execution_count": 1,
   "metadata": {
    "colab": {
     "base_uri": "https://localhost:8080/",
     "height": 73
    },
    "id": "U3j3ge0aJRjH",
    "outputId": "020125e0-ef45-4987-e206-44d7f616fc74"
   },
   "outputs": [
    {
     "data": {
      "text/html": [
       "\n",
       "     <input type=\"file\" id=\"files-c24a7c1d-e7fd-44c8-b49c-5fe39fa2f19c\" name=\"files[]\" multiple disabled\n",
       "        style=\"border:none\" />\n",
       "     <output id=\"result-c24a7c1d-e7fd-44c8-b49c-5fe39fa2f19c\">\n",
       "      Upload widget is only available when the cell has been executed in the\n",
       "      current browser session. Please rerun this cell to enable.\n",
       "      </output>\n",
       "      <script>// Copyright 2017 Google LLC\n",
       "//\n",
       "// Licensed under the Apache License, Version 2.0 (the \"License\");\n",
       "// you may not use this file except in compliance with the License.\n",
       "// You may obtain a copy of the License at\n",
       "//\n",
       "//      http://www.apache.org/licenses/LICENSE-2.0\n",
       "//\n",
       "// Unless required by applicable law or agreed to in writing, software\n",
       "// distributed under the License is distributed on an \"AS IS\" BASIS,\n",
       "// WITHOUT WARRANTIES OR CONDITIONS OF ANY KIND, either express or implied.\n",
       "// See the License for the specific language governing permissions and\n",
       "// limitations under the License.\n",
       "\n",
       "/**\n",
       " * @fileoverview Helpers for google.colab Python module.\n",
       " */\n",
       "(function(scope) {\n",
       "function span(text, styleAttributes = {}) {\n",
       "  const element = document.createElement('span');\n",
       "  element.textContent = text;\n",
       "  for (const key of Object.keys(styleAttributes)) {\n",
       "    element.style[key] = styleAttributes[key];\n",
       "  }\n",
       "  return element;\n",
       "}\n",
       "\n",
       "// Max number of bytes which will be uploaded at a time.\n",
       "const MAX_PAYLOAD_SIZE = 100 * 1024;\n",
       "\n",
       "function _uploadFiles(inputId, outputId) {\n",
       "  const steps = uploadFilesStep(inputId, outputId);\n",
       "  const outputElement = document.getElementById(outputId);\n",
       "  // Cache steps on the outputElement to make it available for the next call\n",
       "  // to uploadFilesContinue from Python.\n",
       "  outputElement.steps = steps;\n",
       "\n",
       "  return _uploadFilesContinue(outputId);\n",
       "}\n",
       "\n",
       "// This is roughly an async generator (not supported in the browser yet),\n",
       "// where there are multiple asynchronous steps and the Python side is going\n",
       "// to poll for completion of each step.\n",
       "// This uses a Promise to block the python side on completion of each step,\n",
       "// then passes the result of the previous step as the input to the next step.\n",
       "function _uploadFilesContinue(outputId) {\n",
       "  const outputElement = document.getElementById(outputId);\n",
       "  const steps = outputElement.steps;\n",
       "\n",
       "  const next = steps.next(outputElement.lastPromiseValue);\n",
       "  return Promise.resolve(next.value.promise).then((value) => {\n",
       "    // Cache the last promise value to make it available to the next\n",
       "    // step of the generator.\n",
       "    outputElement.lastPromiseValue = value;\n",
       "    return next.value.response;\n",
       "  });\n",
       "}\n",
       "\n",
       "/**\n",
       " * Generator function which is called between each async step of the upload\n",
       " * process.\n",
       " * @param {string} inputId Element ID of the input file picker element.\n",
       " * @param {string} outputId Element ID of the output display.\n",
       " * @return {!Iterable<!Object>} Iterable of next steps.\n",
       " */\n",
       "function* uploadFilesStep(inputId, outputId) {\n",
       "  const inputElement = document.getElementById(inputId);\n",
       "  inputElement.disabled = false;\n",
       "\n",
       "  const outputElement = document.getElementById(outputId);\n",
       "  outputElement.innerHTML = '';\n",
       "\n",
       "  const pickedPromise = new Promise((resolve) => {\n",
       "    inputElement.addEventListener('change', (e) => {\n",
       "      resolve(e.target.files);\n",
       "    });\n",
       "  });\n",
       "\n",
       "  const cancel = document.createElement('button');\n",
       "  inputElement.parentElement.appendChild(cancel);\n",
       "  cancel.textContent = 'Cancel upload';\n",
       "  const cancelPromise = new Promise((resolve) => {\n",
       "    cancel.onclick = () => {\n",
       "      resolve(null);\n",
       "    };\n",
       "  });\n",
       "\n",
       "  // Wait for the user to pick the files.\n",
       "  const files = yield {\n",
       "    promise: Promise.race([pickedPromise, cancelPromise]),\n",
       "    response: {\n",
       "      action: 'starting',\n",
       "    }\n",
       "  };\n",
       "\n",
       "  cancel.remove();\n",
       "\n",
       "  // Disable the input element since further picks are not allowed.\n",
       "  inputElement.disabled = true;\n",
       "\n",
       "  if (!files) {\n",
       "    return {\n",
       "      response: {\n",
       "        action: 'complete',\n",
       "      }\n",
       "    };\n",
       "  }\n",
       "\n",
       "  for (const file of files) {\n",
       "    const li = document.createElement('li');\n",
       "    li.append(span(file.name, {fontWeight: 'bold'}));\n",
       "    li.append(span(\n",
       "        `(${file.type || 'n/a'}) - ${file.size} bytes, ` +\n",
       "        `last modified: ${\n",
       "            file.lastModifiedDate ? file.lastModifiedDate.toLocaleDateString() :\n",
       "                                    'n/a'} - `));\n",
       "    const percent = span('0% done');\n",
       "    li.appendChild(percent);\n",
       "\n",
       "    outputElement.appendChild(li);\n",
       "\n",
       "    const fileDataPromise = new Promise((resolve) => {\n",
       "      const reader = new FileReader();\n",
       "      reader.onload = (e) => {\n",
       "        resolve(e.target.result);\n",
       "      };\n",
       "      reader.readAsArrayBuffer(file);\n",
       "    });\n",
       "    // Wait for the data to be ready.\n",
       "    let fileData = yield {\n",
       "      promise: fileDataPromise,\n",
       "      response: {\n",
       "        action: 'continue',\n",
       "      }\n",
       "    };\n",
       "\n",
       "    // Use a chunked sending to avoid message size limits. See b/62115660.\n",
       "    let position = 0;\n",
       "    do {\n",
       "      const length = Math.min(fileData.byteLength - position, MAX_PAYLOAD_SIZE);\n",
       "      const chunk = new Uint8Array(fileData, position, length);\n",
       "      position += length;\n",
       "\n",
       "      const base64 = btoa(String.fromCharCode.apply(null, chunk));\n",
       "      yield {\n",
       "        response: {\n",
       "          action: 'append',\n",
       "          file: file.name,\n",
       "          data: base64,\n",
       "        },\n",
       "      };\n",
       "\n",
       "      let percentDone = fileData.byteLength === 0 ?\n",
       "          100 :\n",
       "          Math.round((position / fileData.byteLength) * 100);\n",
       "      percent.textContent = `${percentDone}% done`;\n",
       "\n",
       "    } while (position < fileData.byteLength);\n",
       "  }\n",
       "\n",
       "  // All done.\n",
       "  yield {\n",
       "    response: {\n",
       "      action: 'complete',\n",
       "    }\n",
       "  };\n",
       "}\n",
       "\n",
       "scope.google = scope.google || {};\n",
       "scope.google.colab = scope.google.colab || {};\n",
       "scope.google.colab._files = {\n",
       "  _uploadFiles,\n",
       "  _uploadFilesContinue,\n",
       "};\n",
       "})(self);\n",
       "</script> "
      ],
      "text/plain": [
       "<IPython.core.display.HTML object>"
      ]
     },
     "metadata": {},
     "output_type": "display_data"
    },
    {
     "name": "stdout",
     "output_type": "stream",
     "text": [
      "Saving PubChem_metabolite_SMILES_expProperties2_cleaned.csv to PubChem_metabolite_SMILES_expProperties2_cleaned.csv\n"
     ]
    }
   ],
   "source": [
    "from google.colab import files\n",
    "uploaded = files.upload()  # Opens a file upload prompt\n"
   ]
  },
  {
   "cell_type": "code",
   "execution_count": 2,
   "metadata": {
    "colab": {
     "base_uri": "https://localhost:8080/"
    },
    "collapsed": true,
    "id": "OQ9x1ykIKIGR",
    "outputId": "d9519b8a-0bd2-4987-da2b-39f188ad86e4"
   },
   "outputs": [
    {
     "name": "stdout",
     "output_type": "stream",
     "text": [
      "Requirement already satisfied: sympy in /usr/local/lib/python3.11/dist-packages (1.13.1)\n",
      "Collecting sympy\n",
      "  Downloading sympy-1.14.0-py3-none-any.whl.metadata (12 kB)\n",
      "Requirement already satisfied: mpmath<1.4,>=1.1.0 in /usr/local/lib/python3.11/dist-packages (from sympy) (1.3.0)\n",
      "Downloading sympy-1.14.0-py3-none-any.whl (6.3 MB)\n",
      "\u001b[2K   \u001b[90m━━━━━━━━━━━━━━━━━━━━━━━━━━━━━━━━━━━━━━━━\u001b[0m \u001b[32m6.3/6.3 MB\u001b[0m \u001b[31m51.0 MB/s\u001b[0m eta \u001b[36m0:00:00\u001b[0m\n",
      "\u001b[?25hInstalling collected packages: sympy\n",
      "  Attempting uninstall: sympy\n",
      "    Found existing installation: sympy 1.13.1\n",
      "    Uninstalling sympy-1.13.1:\n",
      "      Successfully uninstalled sympy-1.13.1\n",
      "\u001b[31mERROR: pip's dependency resolver does not currently take into account all the packages that are installed. This behaviour is the source of the following dependency conflicts.\n",
      "torch 2.6.0+cu124 requires nvidia-cublas-cu12==12.4.5.8; platform_system == \"Linux\" and platform_machine == \"x86_64\", but you have nvidia-cublas-cu12 12.5.3.2 which is incompatible.\n",
      "torch 2.6.0+cu124 requires nvidia-cuda-cupti-cu12==12.4.127; platform_system == \"Linux\" and platform_machine == \"x86_64\", but you have nvidia-cuda-cupti-cu12 12.5.82 which is incompatible.\n",
      "torch 2.6.0+cu124 requires nvidia-cuda-nvrtc-cu12==12.4.127; platform_system == \"Linux\" and platform_machine == \"x86_64\", but you have nvidia-cuda-nvrtc-cu12 12.5.82 which is incompatible.\n",
      "torch 2.6.0+cu124 requires nvidia-cuda-runtime-cu12==12.4.127; platform_system == \"Linux\" and platform_machine == \"x86_64\", but you have nvidia-cuda-runtime-cu12 12.5.82 which is incompatible.\n",
      "torch 2.6.0+cu124 requires nvidia-cudnn-cu12==9.1.0.70; platform_system == \"Linux\" and platform_machine == \"x86_64\", but you have nvidia-cudnn-cu12 9.3.0.75 which is incompatible.\n",
      "torch 2.6.0+cu124 requires nvidia-cufft-cu12==11.2.1.3; platform_system == \"Linux\" and platform_machine == \"x86_64\", but you have nvidia-cufft-cu12 11.2.3.61 which is incompatible.\n",
      "torch 2.6.0+cu124 requires nvidia-curand-cu12==10.3.5.147; platform_system == \"Linux\" and platform_machine == \"x86_64\", but you have nvidia-curand-cu12 10.3.6.82 which is incompatible.\n",
      "torch 2.6.0+cu124 requires nvidia-cusolver-cu12==11.6.1.9; platform_system == \"Linux\" and platform_machine == \"x86_64\", but you have nvidia-cusolver-cu12 11.6.3.83 which is incompatible.\n",
      "torch 2.6.0+cu124 requires nvidia-cusparse-cu12==12.3.1.170; platform_system == \"Linux\" and platform_machine == \"x86_64\", but you have nvidia-cusparse-cu12 12.5.1.3 which is incompatible.\n",
      "torch 2.6.0+cu124 requires nvidia-nvjitlink-cu12==12.4.127; platform_system == \"Linux\" and platform_machine == \"x86_64\", but you have nvidia-nvjitlink-cu12 12.5.82 which is incompatible.\n",
      "torch 2.6.0+cu124 requires sympy==1.13.1; python_version >= \"3.9\", but you have sympy 1.14.0 which is incompatible.\u001b[0m\u001b[31m\n",
      "\u001b[0mSuccessfully installed sympy-1.14.0\n"
     ]
    }
   ],
   "source": [
    "!pip install --upgrade sympy"
   ]
  },
  {
   "cell_type": "code",
   "execution_count": 3,
   "metadata": {
    "id": "leDTf9teLWFE"
   },
   "outputs": [],
   "source": [
    "import torch\n",
    "import torch.nn as nn\n",
    "import torch.optim as optim\n",
    "from transformers import AutoTokenizer, AutoModel\n",
    "import pandas as pd\n",
    "from torch.utils.data import DataLoader, Dataset\n",
    "from sklearn.metrics import r2_score\n",
    "from sklearn.model_selection import train_test_split\n",
    "\n",
    "# Load the dataset\n",
    "data_pd = pd.read_csv('PubChem_metabolite_SMILES_expProperties2_cleaned.csv')"
   ]
  },
  {
   "cell_type": "code",
   "execution_count": 4,
   "metadata": {
    "colab": {
     "base_uri": "https://localhost:8080/",
     "height": 304,
     "referenced_widgets": [
      "7d030299aca041fd9a4c7406bea870fb",
      "ff73ffd2adfb46608df62a50ae86d01b",
      "afc3b938a45d4cceab5c7d72428448cd",
      "0737a703a5394bc0afcea7c6cce49f5a",
      "df436708012b45baa1a66215962f345c",
      "a551fdb301ec453eab834b8ebe3aa96d",
      "cf5f6b4357b348a88600d24159d6f2ec",
      "28fede04cd5d4ba09fa71ee2fb1404db",
      "73709a5e2bed47089d009d822958077e",
      "4b842af864984580b687729b42cd7e14",
      "7a1db2e803d94cd79ebafdf4aa39c49b",
      "71beec87d1654e9d994a318f68629f09",
      "cd4f47ac8a0f46f3a6dec4aea65cda21",
      "9a06517fa1d5446887674fa0696d2d3b",
      "669c9687e3754499afc0ed4d21bbe87c",
      "6d6e02cf9e6f448587734d6223129b25",
      "b0d8c6ee734347faad6b2a23b9304a2c",
      "f5a6adc887114abd81be52b449d7487e",
      "282a9ae74a424ca3ba344e8ff8c407fc",
      "72f036b1b2bf4274b231cb754402ff4f",
      "0b55978de99446a29801935205975101",
      "496ffae61b324f8ea905521e10cdbcef",
      "79d9d970861b41ebbf4a715ecb7f3cb7",
      "8ad1b6fc48d84fe3b60cb12c1c66e669",
      "64cfb7072c924494a7b37a89bbc47b25",
      "330d07db43f84df8b78867b40b0746df",
      "d75dfbc9b3144fa0b64039988ef03439",
      "43cc9fab07d5497fa8c670d407b11ddd",
      "245a3a7608e74288a24d6e990b3acfcb",
      "9aa1370c5c8e416fabcf68af8ce87417",
      "cd3e0473831844c2b61da331f049b47a",
      "65e177ada7dc4b3daaa25d1cf11e56e4",
      "84905fcae7e24ac7be637fb9ee5e4395",
      "2149cdc798264825b5a1e3f5d504a614",
      "b95c3d9299e64c77877acb85ca1221e2",
      "fcd5c0cf2603432fb4649cb997ec7843",
      "20883c4dcdf84285819d6813fd43c236",
      "c9a7b24d1eda4245814de103b984328c",
      "6bf0f15409854a67859594151cd4d95a",
      "64e361acf4454041ae0e1a5efb432aec",
      "1131f0ca603247adacc18d6565b5f059",
      "8168bbb48060454a84ba25b1fde8a555",
      "5ab49ee5d58d4e88ad9c44a8472ccb1e",
      "757e869377514c8cab5bee515052089d"
     ]
    },
    "id": "UYL9iZiAMz1i",
    "outputId": "aeecdd2d-c7a4-4f5d-b98f-479758aba717"
   },
   "outputs": [
    {
     "name": "stderr",
     "output_type": "stream",
     "text": [
      "/usr/local/lib/python3.11/dist-packages/huggingface_hub/utils/_auth.py:94: UserWarning: \n",
      "The secret `HF_TOKEN` does not exist in your Colab secrets.\n",
      "To authenticate with the Hugging Face Hub, create a token in your settings tab (https://huggingface.co/settings/tokens), set it as secret in your Google Colab and restart your session.\n",
      "You will be able to reuse this secret in all of your notebooks.\n",
      "Please note that authentication is recommended but still optional to access public models or datasets.\n",
      "  warnings.warn(\n"
     ]
    },
    {
     "data": {
      "application/vnd.jupyter.widget-view+json": {
       "model_id": "7d030299aca041fd9a4c7406bea870fb",
       "version_major": 2,
       "version_minor": 0
      },
      "text/plain": [
       "config.json:   0%|          | 0.00/642 [00:00<?, ?B/s]"
      ]
     },
     "metadata": {},
     "output_type": "display_data"
    },
    {
     "data": {
      "application/vnd.jupyter.widget-view+json": {
       "model_id": "71beec87d1654e9d994a318f68629f09",
       "version_major": 2,
       "version_minor": 0
      },
      "text/plain": [
       "vocab.json:   0%|          | 0.00/10.5k [00:00<?, ?B/s]"
      ]
     },
     "metadata": {},
     "output_type": "display_data"
    },
    {
     "data": {
      "application/vnd.jupyter.widget-view+json": {
       "model_id": "79d9d970861b41ebbf4a715ecb7f3cb7",
       "version_major": 2,
       "version_minor": 0
      },
      "text/plain": [
       "merges.txt:   0%|          | 0.00/5.01k [00:00<?, ?B/s]"
      ]
     },
     "metadata": {},
     "output_type": "display_data"
    },
    {
     "data": {
      "application/vnd.jupyter.widget-view+json": {
       "model_id": "2149cdc798264825b5a1e3f5d504a614",
       "version_major": 2,
       "version_minor": 0
      },
      "text/plain": [
       "model.safetensors:   0%|          | 0.00/504M [00:00<?, ?B/s]"
      ]
     },
     "metadata": {},
     "output_type": "display_data"
    },
    {
     "name": "stderr",
     "output_type": "stream",
     "text": [
      "Some weights of RobertaModel were not initialized from the model checkpoint at JuIm/SMILES_BERT and are newly initialized: ['pooler.dense.bias', 'pooler.dense.weight']\n",
      "You should probably TRAIN this model on a down-stream task to be able to use it for predictions and inference.\n"
     ]
    }
   ],
   "source": [
    "# Load tokenizer and model\n",
    "checkpoint = \"JuIm/SMILES_BERT\"\n",
    "tokenizer = AutoTokenizer.from_pretrained(checkpoint)\n",
    "model = AutoModel.from_pretrained(checkpoint, output_attentions=True)  # Enable attention output"
   ]
  },
  {
   "cell_type": "code",
   "execution_count": 5,
   "metadata": {
    "id": "FW7yjfBBN9fB"
   },
   "outputs": [],
   "source": [
    "# Prepare the input sequences\n",
    "sequences = data_pd['SMILES'].tolist()\n",
    "solubility_logp = torch.tensor(data_pd['XLogP'].values, dtype=torch.float32)"
   ]
  },
  {
   "cell_type": "code",
   "execution_count": 6,
   "metadata": {
    "colab": {
     "base_uri": "https://localhost:8080/"
    },
    "id": "a8jUHQINOagY",
    "outputId": "ae766575-f186-4069-a81d-1b32d19614c9"
   },
   "outputs": [
    {
     "name": "stderr",
     "output_type": "stream",
     "text": [
      "Asking to truncate to max_length but no maximum length is provided and the model has no predefined maximum length. Default to no truncation.\n"
     ]
    }
   ],
   "source": [
    "# Tokenize SMILES sequences\n",
    "tokenized_inputs = tokenizer(sequences, padding=True, truncation=True, return_tensors=\"pt\")"
   ]
  },
  {
   "cell_type": "code",
   "execution_count": 7,
   "metadata": {
    "id": "Eap-9otGOixr"
   },
   "outputs": [],
   "source": [
    "# Convert tokenized inputs to a dictionary of lists for splitting\n",
    "tokenized_inputs_list = {key: val.tolist() for key, val in tokenized_inputs.items()}"
   ]
  },
  {
   "cell_type": "code",
   "execution_count": 9,
   "metadata": {
    "id": "cF8FRT3hPGyQ"
   },
   "outputs": [],
   "source": [
    "# Split data into train and test sets\n",
    "# Convert tokenized_inputs back to a dictionary of tensors before splitting\n",
    "tokenized_inputs = {k: torch.tensor(v) for k, v in tokenized_inputs_list.items()}\n",
    "\n",
    "# Get the input IDs (or other relevant features) from the tokenized inputs\n",
    "input_ids = tokenized_inputs['input_ids']\n",
    "\n",
    "# perform the split using input_ids and targets, and get the indices\n",
    "train_indices, test_indices, _, _ = train_test_split(\n",
    "    range(len(input_ids)), solubility_logp, test_size=0.3, random_state=42\n",
    ")\n",
    "\n",
    "train_inputs, test_inputs = input_ids[train_indices], input_ids[test_indices]\n",
    "train_targets, test_targets = solubility_logp[train_indices], solubility_logp[test_indices]"
   ]
  },
  {
   "cell_type": "code",
   "execution_count": 12,
   "metadata": {
    "id": "OuGcxuWXjOQ9"
   },
   "outputs": [],
   "source": [
    "# 🆕 Move inputs, attention masks, and targets to GPU\n",
    "# Define device here\n",
    "device = torch.device(\"cuda\" if torch.cuda.is_available() else \"cpu\")\n",
    "\n",
    "train_inputs = train_inputs.to(device)\n",
    "test_inputs = test_inputs.to(device)\n",
    "train_attention = tokenized_inputs['attention_mask'][train_indices].to(device)\n",
    "test_attention = tokenized_inputs['attention_mask'][test_indices].to(device)\n",
    "train_targets = train_targets.to(device)\n",
    "test_targets = test_targets.to(device)\n",
    "\n",
    "train_targets, test_targets = solubility_logp[train_indices], solubility_logp[test_indices]"
   ]
  },
  {
   "cell_type": "code",
   "execution_count": 13,
   "metadata": {
    "id": "_PEO_Ns3VAzA"
   },
   "outputs": [],
   "source": [
    "# Custom dataset for PyTorch DataLoader\n",
    "class SMILESDataset(Dataset):\n",
    "    def __init__(self, input_ids, attention_mask, targets):\n",
    "        self.input_ids = input_ids\n",
    "        self.attention_mask = attention_mask # Add attention mask\n",
    "        self.targets = targets\n",
    "\n",
    "    def __len__(self):\n",
    "        return len(self.targets)\n",
    "\n",
    "    def __getitem__(self, idx):\n",
    "        # Return a dictionary with input_ids and attention_mask\n",
    "        return {'input_ids': self.input_ids[idx], 'attention_mask': self.attention_mask[idx]}, self.targets[idx]"
   ]
  },
  {
   "cell_type": "code",
   "execution_count": 14,
   "metadata": {
    "id": "Tl9emzM2Vc0x"
   },
   "outputs": [],
   "source": [
    "#train_dataset = SMILESDataset(train_inputs, tokenized_inputs['attention_mask'][train_indices], train_targets)\n",
    "#test_dataset = SMILESDataset(test_inputs, tokenized_inputs['attention_mask'][test_indices], test_targets)\n",
    "#train_loader = DataLoader(train_dataset, batch_size=16, shuffle=True)\n",
    "#test_loader = DataLoader(test_dataset, batch_size=16, shuffle=False)"
   ]
  },
  {
   "cell_type": "code",
   "execution_count": 15,
   "metadata": {
    "id": "sbJqDdtqjmbz"
   },
   "outputs": [],
   "source": [
    "# 🆕 Use attention masks already moved to GPU\n",
    "train_dataset = SMILESDataset(train_inputs, train_attention, train_targets)\n",
    "test_dataset = SMILESDataset(test_inputs, test_attention, test_targets)\n",
    "train_loader = DataLoader(train_dataset, batch_size=16, shuffle=True)\n",
    "test_loader = DataLoader(test_dataset, batch_size=16, shuffle=False)"
   ]
  },
  {
   "cell_type": "code",
   "execution_count": 16,
   "metadata": {
    "id": "1UxIdIP_V5q1"
   },
   "outputs": [],
   "source": [
    "# Define a regression head for fine-tuning\n",
    "class BERTRegressor(nn.Module):\n",
    "    def __init__(self, base_model):\n",
    "        super(BERTRegressor, self).__init__()\n",
    "        self.bert = base_model\n",
    "        self.regressor = nn.Linear(base_model.config.hidden_size, 1)  # Regression layer\n",
    "\n",
    "    def forward(self, input_ids, attention_mask):\n",
    "        outputs = self.bert(input_ids=input_ids, attention_mask=attention_mask)\n",
    "        pooled_output = outputs.last_hidden_state[:, 0, :]  # CLS token representation\n",
    "        return self.regressor(pooled_output), outputs.attentions  # Return attentions"
   ]
  },
  {
   "cell_type": "code",
   "execution_count": 17,
   "metadata": {
    "id": "a7_E5Jd-WATv"
   },
   "outputs": [],
   "source": [
    "# Initialize model, loss function, and optimizer\n",
    "device = torch.device(\"cuda\" if torch.cuda.is_available() else \"cpu\")\n",
    "fine_tuned_model = BERTRegressor(model).to(device)\n",
    "#criterion = nn.MSELoss()\n",
    "criterion = nn.MSELoss().to(device)  # 🆕 Move loss function to GPU\n",
    "optimizer = optim.AdamW(fine_tuned_model.parameters(), lr=2e-5)"
   ]
  },
  {
   "cell_type": "code",
   "execution_count": 18,
   "metadata": {
    "colab": {
     "base_uri": "https://localhost:8080/"
    },
    "id": "Hh41erWEWv8W",
    "outputId": "8399ea9e-99b1-49e7-cd2b-5afe96b8a77f"
   },
   "outputs": [
    {
     "name": "stderr",
     "output_type": "stream",
     "text": [
      "RobertaSdpaSelfAttention is used but `torch.nn.functional.scaled_dot_product_attention` does not support non-absolute `position_embedding_type` or `output_attentions=True` or `head_mask`. Falling back to the manual attention implementation, but specifying the manual implementation will be required from Transformers version v5.0.0 onwards. This warning can be removed using the argument `attn_implementation=\"eager\"` when loading the model.\n"
     ]
    },
    {
     "name": "stdout",
     "output_type": "stream",
     "text": [
      "Epoch 1/30, Loss: 2.7172, Train R^2: 0.3723, Test R^2: 0.4993\n",
      "Epoch 2/30, Loss: 1.8230, Train R^2: 0.5796, Test R^2: 0.6305\n",
      "Epoch 3/30, Loss: 1.4570, Train R^2: 0.6737, Test R^2: 0.4898\n",
      "Epoch 4/30, Loss: 1.1602, Train R^2: 0.7326, Test R^2: 0.6098\n",
      "Epoch 5/30, Loss: 0.9798, Train R^2: 0.7734, Test R^2: 0.6849\n",
      "Epoch 6/30, Loss: 0.7639, Train R^2: 0.8236, Test R^2: 0.6608\n",
      "Epoch 7/30, Loss: 0.6131, Train R^2: 0.8585, Test R^2: 0.6838\n",
      "Epoch 8/30, Loss: 0.4993, Train R^2: 0.8847, Test R^2: 0.6753\n",
      "Epoch 9/30, Loss: 0.4510, Train R^2: 0.8959, Test R^2: 0.6901\n",
      "Epoch 10/30, Loss: 0.4148, Train R^2: 0.9041, Test R^2: 0.7360\n",
      "Epoch 11/30, Loss: 0.3689, Train R^2: 0.9150, Test R^2: 0.7156\n",
      "Epoch 12/30, Loss: 0.3404, Train R^2: 0.9213, Test R^2: 0.7352\n",
      "Epoch 13/30, Loss: 0.2862, Train R^2: 0.9338, Test R^2: 0.6831\n",
      "Epoch 14/30, Loss: 0.3127, Train R^2: 0.9279, Test R^2: 0.7325\n",
      "Epoch 15/30, Loss: 0.2562, Train R^2: 0.9409, Test R^2: 0.7330\n",
      "Epoch 16/30, Loss: 0.2454, Train R^2: 0.9432, Test R^2: 0.7531\n",
      "Epoch 17/30, Loss: 0.2488, Train R^2: 0.9426, Test R^2: 0.7426\n",
      "Epoch 18/30, Loss: 0.2041, Train R^2: 0.9530, Test R^2: 0.7393\n",
      "Epoch 19/30, Loss: 0.1910, Train R^2: 0.9559, Test R^2: 0.7423\n",
      "Epoch 20/30, Loss: 0.1968, Train R^2: 0.9545, Test R^2: 0.7525\n",
      "Epoch 21/30, Loss: 0.1619, Train R^2: 0.9628, Test R^2: 0.7267\n",
      "Epoch 22/30, Loss: 0.1842, Train R^2: 0.9574, Test R^2: 0.7518\n",
      "Epoch 23/30, Loss: 0.1584, Train R^2: 0.9634, Test R^2: 0.7550\n",
      "Epoch 24/30, Loss: 0.2133, Train R^2: 0.9508, Test R^2: 0.7338\n",
      "Epoch 25/30, Loss: 0.1387, Train R^2: 0.9680, Test R^2: 0.7579\n",
      "Epoch 26/30, Loss: 0.1499, Train R^2: 0.9655, Test R^2: 0.7185\n",
      "Epoch 27/30, Loss: 0.1390, Train R^2: 0.9679, Test R^2: 0.7516\n",
      "Epoch 28/30, Loss: 0.1606, Train R^2: 0.9629, Test R^2: 0.7541\n",
      "Epoch 29/30, Loss: 0.1145, Train R^2: 0.9735, Test R^2: 0.7503\n",
      "Epoch 30/30, Loss: 0.1295, Train R^2: 0.9701, Test R^2: 0.7561\n",
      "Fine-tuning complete!\n"
     ]
    }
   ],
   "source": [
    "# Fine-tuning loop\n",
    "num_epochs = 30\n",
    "fine_tuned_model.train()\n",
    "for epoch in range(num_epochs):\n",
    "    total_loss = 0.0\n",
    "    all_train_targets = []\n",
    "    all_train_predictions = []\n",
    "\n",
    "    for batch in train_loader:\n",
    "        inputs, targets = batch\n",
    "        inputs = {key: val.to(device) for key, val in inputs.items()}\n",
    "        targets = targets.to(device)\n",
    "\n",
    "        optimizer.zero_grad()\n",
    "        outputs, _ = fine_tuned_model(**inputs)\n",
    "\n",
    "        # Check for NaN in outputs and targets before calculating loss\n",
    "        if torch.isnan(outputs).any() or torch.isnan(targets).any():\n",
    "            print(\"NaN detected in outputs or targets. Skipping this batch.\")\n",
    "            continue  # Skip this batch and move to the next\n",
    "\n",
    "        loss = criterion(outputs.squeeze(), targets)\n",
    "        loss.backward()\n",
    "\n",
    "        # Clip gradients to prevent exploding gradients\n",
    "        torch.nn.utils.clip_grad_norm_(fine_tuned_model.parameters(), max_norm=1.0)\n",
    "\n",
    "        optimizer.step()\n",
    "        total_loss += loss.item()\n",
    "\n",
    "        all_train_targets.extend(targets.cpu().numpy())\n",
    "        all_train_predictions.extend(outputs.squeeze().cpu().detach().numpy())\n",
    "\n",
    "    avg_loss = total_loss / len(train_loader)\n",
    "    train_r2 = r2_score(all_train_targets, all_train_predictions)\n",
    "\n",
    "    # Evaluate on test set (rest of the code remains the same)\n",
    "\n",
    "    # Evaluate on test set\n",
    "    fine_tuned_model.eval()\n",
    "    all_test_targets = []\n",
    "    all_test_predictions = []\n",
    "    with torch.no_grad():\n",
    "        for batch in test_loader:\n",
    "            inputs, targets = batch\n",
    "            inputs = {key: val.to(device) for key, val in inputs.items()}\n",
    "            targets = targets.to(device)\n",
    "\n",
    "            outputs, _ = fine_tuned_model(**inputs)\n",
    "\n",
    "            all_test_targets.extend(targets.cpu().numpy())\n",
    "            all_test_predictions.extend(outputs.squeeze().cpu().numpy())\n",
    "\n",
    "    test_r2 = r2_score(all_test_targets, all_test_predictions)\n",
    "\n",
    "    print(f\"Epoch {epoch + 1}/{num_epochs}, Loss: {avg_loss:.4f}, Train R^2: {train_r2:.4f}, Test R^2: {test_r2:.4f}\")\n",
    "\n",
    "print(\"Fine-tuning complete!\")"
   ]
  }
 ],
 "metadata": {
  "accelerator": "GPU",
  "colab": {
   "gpuType": "T4",
   "provenance": []
  },
  "kernelspec": {
   "display_name": "Python 3",
   "name": "python3"
  },
  "language_info": {
   "name": "python"
  }
 },
 "nbformat": 4,
 "nbformat_minor": 0
}
